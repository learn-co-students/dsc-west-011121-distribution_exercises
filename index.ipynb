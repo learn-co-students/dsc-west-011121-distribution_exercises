{
 "cells": [
  {
   "cell_type": "markdown",
   "metadata": {},
   "source": [
    "# Distributions warmup!"
   ]
  },
  {
   "cell_type": "markdown",
   "metadata": {},
   "source": [
    "## To start, a writing exercise.\n",
    "\n",
    "![](viz/writing.gif)\n",
    "\n",
    "Write out the differences between:\n",
    "\n",
    "- A discrete and continous variable, as well as an example of each\n",
    "\n",
    "- A PMF, PDF and CDF, as well as an example of what you would calculate with each\n",
    "\n",
    "- An example of a situation in which you would use a Binomial distribution, a Bernoulli distribution, a Poisson distribution, and a Normal distribution\n",
    "\n",
    "Practice some Markdown!\n",
    "\n",
    "Ping Ben to have him look your answers over!"
   ]
  },
  {
   "cell_type": "markdown",
   "metadata": {},
   "source": [
    "Write your answers here\n",
    "\n",
    "\n",
    "\n",
    "\n"
   ]
  },
  {
   "cell_type": "markdown",
   "metadata": {},
   "source": [
    "## A spot of coding, eh\n",
    "![](viz/eh.gif)\n",
    "\n",
    "#### Imports"
   ]
  },
  {
   "cell_type": "code",
   "execution_count": 1,
   "metadata": {},
   "outputs": [],
   "source": [
    "#Run this cell as-is\n",
    "\n",
    "#data manip\n",
    "import numpy as np\n",
    "\n",
    "#used for tests\n",
    "from test_background import pkl_dump, test_obj_dict, run_test_dict, run_test "
   ]
  },
  {
   "cell_type": "code",
   "execution_count": 2,
   "metadata": {},
   "outputs": [],
   "source": [
    "#__SOLUTION__\n",
    "\n",
    "#Run this cell as-is\n",
    "\n",
    "#data manip\n",
    "import numpy as np\n",
    "\n",
    "#used for tests\n",
    "from test_background import pkl_dump, test_obj_dict, run_test_dict, run_test "
   ]
  },
  {
   "cell_type": "markdown",
   "metadata": {},
   "source": [
    "#### For each problem:\n",
    "\n",
    "- Determine which distribution is appropriate to use for calculating\n",
    "- Calculate the expected value of the random variable described and its variance\n",
    "- Calculate the given probability"
   ]
  },
  {
   "cell_type": "markdown",
   "metadata": {},
   "source": [
    "### Problem 1\n",
    "\n",
    "Kevin Durant loves posting on his social media feeds.  He has the true soul of a poster, in that:\n",
    "\n",
    "- any given post is independent of any other post\n",
    "- on average he posts 47 times an hour\n",
    "\n",
    "What is the probability in a given hour that he achieves posting nirvana and posts 60 times?"
   ]
  },
  {
   "cell_type": "code",
   "execution_count": 31,
   "metadata": {},
   "outputs": [
    {
     "ename": "TypeError",
     "evalue": "unsupported operand type(s) for ** or pow(): 'NoneType' and 'int'",
     "output_type": "error",
     "traceback": [
      "\u001b[0;31m---------------------------------------------------------------------------\u001b[0m",
      "\u001b[0;31mTypeError\u001b[0m                                 Traceback (most recent call last)",
      "\u001b[0;32m<ipython-input-31-624091ed50d0>\u001b[0m in \u001b[0;36m<module>\u001b[0;34m\u001b[0m\n\u001b[1;32m     12\u001b[0m     \u001b[0mexp_val_1\u001b[0m\u001b[0;34m**\u001b[0m\u001b[0mk\u001b[0m\u001b[0;34m\u001b[0m\u001b[0;34m\u001b[0m\u001b[0m\n\u001b[1;32m     13\u001b[0m     \u001b[0;34m*\u001b[0m\u001b[0mnp\u001b[0m\u001b[0;34m.\u001b[0m\u001b[0mexp\u001b[0m\u001b[0;34m(\u001b[0m\u001b[0;34m-\u001b[0m\u001b[0mexp_val_1\u001b[0m\u001b[0;34m)\u001b[0m\u001b[0;34m\u001b[0m\u001b[0;34m\u001b[0m\u001b[0m\n\u001b[0;32m---> 14\u001b[0;31m     \u001b[0;34m/\u001b[0m\u001b[0mnp\u001b[0m\u001b[0;34m.\u001b[0m\u001b[0mmath\u001b[0m\u001b[0;34m.\u001b[0m\u001b[0mfactorial\u001b[0m\u001b[0;34m(\u001b[0m\u001b[0mk\u001b[0m\u001b[0;34m)\u001b[0m\u001b[0;34m\u001b[0m\u001b[0;34m\u001b[0m\u001b[0m\n\u001b[0m\u001b[1;32m     15\u001b[0m )\n",
      "\u001b[0;31mTypeError\u001b[0m: unsupported operand type(s) for ** or pow(): 'NoneType' and 'int'"
     ]
    }
   ],
   "source": [
    "'''\n",
    "you may have to create extra variables than these, \n",
    "but use these as your expected value, variance,\n",
    "and probability variables\n",
    "'''\n",
    "\n",
    "exp_val_1 = #your code here\n",
    "\n",
    "var_1 = #your code here\n",
    "\n",
    "prob_1 = #your code here"
   ]
  },
  {
   "cell_type": "code",
   "execution_count": 37,
   "metadata": {},
   "outputs": [
    {
     "name": "stdout",
     "output_type": "stream",
     "text": [
      "can\"t dump, exp_val_1 already exists\n"
     ]
    }
   ],
   "source": [
    "#__SOLUTION__\n",
    "\n",
    "#use a Poisson distribution\n",
    "\n",
    "exp_val_1 = 47\n",
    "var_1 = 47\n",
    "\n",
    "k = 60\n",
    "\n",
    "#we want to find the probability of P(X=60)\n",
    "prob_1 = (\n",
    "    exp_val_1**k\n",
    "    *np.exp(-exp_val_1)\n",
    "    /np.math.factorial(k)\n",
    ")\n",
    "\n",
    "# used for tests\n",
    "pkl_dump([\n",
    "    (exp_val_1, 'exp_val_1'),\n",
    "    (var_1, 'var_1'),\n",
    "    (prob_1, 'prob_1')\n",
    "])\n",
    "\n",
    "# prob_1"
   ]
  },
  {
   "cell_type": "code",
   "execution_count": 38,
   "metadata": {},
   "outputs": [
    {
     "data": {
      "text/plain": [
       "'Hey, you did it.  Good job.'"
      ]
     },
     "execution_count": 38,
     "metadata": {},
     "output_type": "execute_result"
    }
   ],
   "source": [
    "#run this cell to test your expected value\n",
    "\n",
    "run_test(exp_val_1, 'exp_val_1')"
   ]
  },
  {
   "cell_type": "code",
   "execution_count": 39,
   "metadata": {},
   "outputs": [
    {
     "data": {
      "text/plain": [
       "'Hey, you did it.  Good job.'"
      ]
     },
     "execution_count": 39,
     "metadata": {},
     "output_type": "execute_result"
    }
   ],
   "source": [
    "#run this cell to test your variance\n",
    "\n",
    "run_test(var_1, 'var_1')"
   ]
  },
  {
   "cell_type": "code",
   "execution_count": 40,
   "metadata": {},
   "outputs": [
    {
     "data": {
      "text/plain": [
       "'Try again'"
      ]
     },
     "execution_count": 40,
     "metadata": {},
     "output_type": "execute_result"
    }
   ],
   "source": [
    "#run this cell to test your probability\n",
    "\n",
    "run_test(prob_1, 'prob_1')"
   ]
  },
  {
   "cell_type": "markdown",
   "metadata": {},
   "source": [
    "### Problem 2\n",
    "\n",
    "Lebron and MJ are playing pickup 1:1 (all made baskets are 2pts)\n",
    "\n",
    "Every time Lebron drives on MJ, he has an 80% chance of making a basket\n",
    "\n",
    "During the course of the game, Lebron drives 45 times\n",
    "\n",
    "What is the probability he scores **at least** 80 pts?"
   ]
  },
  {
   "cell_type": "code",
   "execution_count": null,
   "metadata": {},
   "outputs": [],
   "source": [
    "'''\n",
    "you may have to create extra variables than these, \n",
    "but use these as your expected value, variance,\n",
    "and probability variables\n",
    "'''\n",
    "\n",
    "exp_val_2 = #your code here\n",
    "\n",
    "var_2 = #your code here\n",
    "\n",
    "prob_2 = #your code here"
   ]
  },
  {
   "cell_type": "code",
   "execution_count": 11,
   "metadata": {},
   "outputs": [
    {
     "data": {
      "text/plain": [
       "0.09020387884112469"
      ]
     },
     "execution_count": 11,
     "metadata": {},
     "output_type": "execute_result"
    }
   ],
   "source": [
    "#__SOLUTION__\n",
    "\n",
    "#We have 45 trials of an outcome that is 80% success and 20% failure for each trial\n",
    "\n",
    "#Binomial is the distribution to use\n",
    "\n",
    "n = 45\n",
    "p = .8\n",
    "\n",
    "exp_val_2 = n*p\n",
    "\n",
    "var_2 = n*p*(1-p)\n",
    "\n",
    "'''\n",
    "We'll sum the probabilities that Lebron makes 80, 82, . . . , 90 pts\n",
    "\n",
    "(why do we sum?)\n",
    "\n",
    "if we have 80 points at 2pts a shot we have 40 made shots out of 45 trials\n",
    "\n",
    "similarly, 82pts = 41 shots, . . ., 90pts = 45 shots\n",
    "\n",
    "so, we'll calculate the probabilities for Lebron making [40, 45] shots and sum em\n",
    "'''\n",
    "\n",
    "def n_choose_k(n, k):\n",
    "    '''\n",
    "    computes n choose k\n",
    "    \n",
    "    inputs: \n",
    "        n: integer\n",
    "        k: integer\n",
    "        \n",
    "    outputs:\n",
    "        n choose k\n",
    "    '''\n",
    "    \n",
    "    value = (\n",
    "        np.math.factorial(n)\n",
    "        / \n",
    "        (\n",
    "            np.math.factorial(k)\n",
    "            * np.math.factorial(n-k)\n",
    "        )\n",
    "    )\n",
    "    \n",
    "    return value\n",
    "\n",
    "def binomial_prob(p, k, n):\n",
    "    '''\n",
    "    calculates the probability for a given p, k, and n\n",
    "    in a binomial distribution \n",
    "    \n",
    "    inputs:\n",
    "        p: integer\n",
    "        k: integer\n",
    "        n: integer\n",
    "        \n",
    "    outputs:\n",
    "        the probability in a binomial distribution\n",
    "        of having k successes of n trials\n",
    "        with success probability p of any one trial\n",
    "        \n",
    "    requires:\n",
    "        function n_choose_k(n, k) which calculates n choose k \n",
    "        for a given n and k\n",
    "    '''\n",
    "    \n",
    "    prob = n_choose_k(n,k) * p**(k)*(1-p)**(n-k)\n",
    "    \n",
    "    return prob\n",
    "    \n",
    "\n",
    "prob_2 = (\n",
    "    np.sum(\n",
    "        [\n",
    "            binomial_prob(p, k, n)\n",
    "            for k\n",
    "            in range(40, 46)\n",
    "        ]\n",
    "    \n",
    "    )\n",
    "\n",
    ")\n",
    "\n",
    "#used for tests\n",
    "# pkl_dump([\n",
    "#     (exp_val_2, 'exp_val_2'),\n",
    "#     (var_2, 'var_2'),\n",
    "#     (prob_2, 'prob_2')\n",
    "# ])\n",
    "\n",
    "prob_2"
   ]
  },
  {
   "cell_type": "code",
   "execution_count": 13,
   "metadata": {},
   "outputs": [],
   "source": [
    "#run this cell to test your expected value\n",
    "\n",
    "run_test(exp_val_2, 'exp_val_2')"
   ]
  },
  {
   "cell_type": "code",
   "execution_count": 15,
   "metadata": {},
   "outputs": [],
   "source": [
    "#run this cell to test your variance\n",
    "\n",
    "run_test(var_2, 'var_2')"
   ]
  },
  {
   "cell_type": "code",
   "execution_count": 16,
   "metadata": {},
   "outputs": [],
   "source": [
    "#run this cell to test your probability\n",
    "\n",
    "run_test(prob_2, 'prob_2')"
   ]
  }
 ],
 "metadata": {
  "kernelspec": {
   "display_name": "Python 3",
   "language": "python",
   "name": "python3"
  },
  "language_info": {
   "codemirror_mode": {
    "name": "ipython",
    "version": 3
   },
   "file_extension": ".py",
   "mimetype": "text/x-python",
   "name": "python",
   "nbconvert_exporter": "python",
   "pygments_lexer": "ipython3",
   "version": "3.7.3"
  }
 },
 "nbformat": 4,
 "nbformat_minor": 4
}
